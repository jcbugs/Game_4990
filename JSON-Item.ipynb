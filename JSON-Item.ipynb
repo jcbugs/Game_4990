{
 "cells": [
  {
   "cell_type": "code",
   "execution_count": 15,
   "id": "08d32743-3c8e-41f6-a291-ca13f2a60e23",
   "metadata": {},
   "outputs": [
    {
     "name": "stdin",
     "output_type": "stream",
     "text": [
      "Enter the item name (or type 'done' to finish):  Mega Potion\n",
      "Enter the description of the item:  heal\n",
      "Enter the effects of the item:  20\n",
      "Enter the target stat of this item:  hp\n",
      "Enter the item name (or type 'done' to finish):  Full Potion\n",
      "Enter the description of the item:  heal\n",
      "Enter the effects of the item:  100\n",
      "Enter the target stat of this item:  hp\n",
      "Enter the item name (or type 'done' to finish):  Energy Drink\n",
      "Enter the description of the item:  improve accuracy\n",
      "Enter the effects of the item:  10\n",
      "Enter the target stat of this item:  accuracy\n",
      "Enter the item name (or type 'done' to finish):  Monster Energy Drink\n",
      "Enter the description of the item:  improve accuracy\n",
      "Enter the effects of the item:  20\n",
      "Enter the target stat of this item:  accuracy\n",
      "Enter the item name (or type 'done' to finish):  Smelling Salts\n",
      "Enter the description of the item:  improve power\n",
      "Enter the effects of the item:  10\n",
      "Enter the target stat of this item:  power\n",
      "Enter the item name (or type 'done' to finish):  Super Smelling Salts\n",
      "Enter the description of the item:  improve power\n",
      "Enter the effects of the item:  20\n",
      "Enter the target stat of this item:  power\n",
      "Enter the item name (or type 'done' to finish):  Mega Smelling Salts\n",
      "Enter the description of the item:  improve power\n",
      "Enter the effects of the item:  30\n",
      "Enter the target stat of this item:  power\n",
      "Enter the item name (or type 'done' to finish):  done\n"
     ]
    },
    {
     "name": "stdout",
     "output_type": "stream",
     "text": [
      "Items saved to items.json successfully.\n"
     ]
    }
   ],
   "source": [
    "import json\n",
    "\n",
    "def load_items_from_json():\n",
    "    try:\n",
    "        with open('items.json','r') as f:\n",
    "            items = json.load(f)\n",
    "    except FileNotFoundError:\n",
    "        items = []\n",
    "    return items\n",
    "\n",
    "def collect_item_info():\n",
    "    items = load_items_from_json()\n",
    "    \n",
    "    while True:\n",
    "        item_name = input(\"Enter the item name (or type 'done' to finish): \")\n",
    "        if item_name.lower() == 'done':\n",
    "            break\n",
    "        description = input(\"Enter the description of the item: \")\n",
    "        effect = input(\"Enter the effects of the item: \")\n",
    "        target = input(\"Enter the target stat of this item: \")\n",
    "        \n",
    "        item_info = {\"item_name\": item_name, \"description\": description, \"effect\" : effect, \"target\" : target}\n",
    "        items.append(item_info)\n",
    "    return items\n",
    "\n",
    "def save_to_json(items):\n",
    "    with open('items.json', 'w') as f:\n",
    "        json.dump(items, f, indent=4)\n",
    "    print(\"Items saved to items.json successfully.\")\n",
    "\n",
    "if __name__==\"__main__\":\n",
    "    items_info = collect_item_info()\n",
    "    save_to_json(items_info)\n"
   ]
  },
  {
   "cell_type": "code",
   "execution_count": 13,
   "id": "50e62de4-af7d-47b2-93b0-4fe1d7e770b2",
   "metadata": {
    "tags": []
   },
   "outputs": [
    {
     "name": "stdout",
     "output_type": "stream",
     "text": [
      "JSON file reset successfully.\n"
     ]
    }
   ],
   "source": [
    "def reset_json_file():\n",
    "    data = []  # or {} for an empty dictionary\n",
    "\n",
    "    # Write the empty data to the JSON file\n",
    "    with open(\"items.json\", \"w\") as file:\n",
    "        json.dump(data, file)\n",
    "    \n",
    "    print(\"JSON file reset successfully.\")\n",
    "\n",
    "if __name__ == \"__main__\":\n",
    "    reset_json_file()"
   ]
  },
  {
   "cell_type": "code",
   "execution_count": null,
   "id": "8c78749c-599b-4feb-bb0a-28263fc4955d",
   "metadata": {},
   "outputs": [],
   "source": []
  }
 ],
 "metadata": {
  "kernelspec": {
   "display_name": "Python 3 (ipykernel)",
   "language": "python",
   "name": "python3"
  },
  "language_info": {
   "codemirror_mode": {
    "name": "ipython",
    "version": 3
   },
   "file_extension": ".py",
   "mimetype": "text/x-python",
   "name": "python",
   "nbconvert_exporter": "python",
   "pygments_lexer": "ipython3",
   "version": "3.11.5"
  }
 },
 "nbformat": 4,
 "nbformat_minor": 5
}
