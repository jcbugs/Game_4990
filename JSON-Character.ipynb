{
 "cells": [
  {
   "cell_type": "code",
   "execution_count": 2,
   "id": "df0fc177-2ee2-4e33-a224-fdfa10a49297",
   "metadata": {
    "tags": []
   },
   "outputs": [
    {
     "name": "stdin",
     "output_type": "stream",
     "text": [
      "Enter the character name (or type 'done' to finish):  Office-Bro\n",
      "Enter the description of the character:  Works in the office all the time\n",
      "Enter the hp of the character:  60\n",
      "Enter the power of the character:  15\n",
      "Enter the hp up of the character:  2\n",
      "Enter the power up of the character:  2\n",
      "Enter the accuracy of the character:  60\n",
      "Enter the number of this character:  1\n",
      "Enter the character name (or type 'done' to finish):  Gym-Bro\n",
      "Enter the description of the character:  Works out all the time at the gym\n",
      "Enter the hp of the character:  70\n",
      "Enter the power of the character:  30\n",
      "Enter the hp up of the character:  2\n",
      "Enter the power up of the character:  2\n",
      "Enter the accuracy of the character:  30\n",
      "Enter the number of this character:  2\n",
      "Enter the character name (or type 'done' to finish):  Gambler-Bro\n",
      "Enter the description of the character:  Enjoys high stake gamble\n",
      "Enter the hp of the character:  70\n",
      "Enter the power of the character:  100\n",
      "Enter the hp up of the character:  2\n",
      "Enter the power up of the character:  2\n",
      "Enter the accuracy of the character:  5\n",
      "Enter the number of this character:  3\n",
      "Enter the character name (or type 'done' to finish):  done\n"
     ]
    },
    {
     "name": "stdout",
     "output_type": "stream",
     "text": [
      "Characters saved to characters.json successfully.\n"
     ]
    }
   ],
   "source": [
    "import json\n",
    "\n",
    "def load_characters_from_json():\n",
    "    try:\n",
    "        with open('characters.json','r') as f:\n",
    "            characters = json.load(f)\n",
    "    except FileNotFoundError:\n",
    "        characters = []\n",
    "    return characters\n",
    "\n",
    "def collect_character_info():\n",
    "    characters = load_characters_from_json()\n",
    "    \n",
    "    while True:\n",
    "        character_name = input(\"Enter the character name (or type 'done' to finish): \")\n",
    "        if character_name.lower() == 'done':\n",
    "            break\n",
    "        description = input(\"Enter the description of the character: \")\n",
    "        hp = int(input(\"Enter the hp of the character: \"))\n",
    "        power = int(input(\"Enter the power of the character: \"))\n",
    "        hp_up = int(input(\"Enter the hp up of the character: \"))\n",
    "        power_up = int(input(\"Enter the power up of the character: \"))\n",
    "        accuracy = int(input(\"Enter the accuracy of the character: \"))\n",
    "        number = int(input(\"Enter the number of this character: \"))\n",
    "        \n",
    "        character_info = {\"character_name\": character_name, \"description\": description, \"hp\" : hp, \"power\" : power, \"hp_up\" : hp_up, \"power_up\" : power_up, \"accuracy\" : accuracy,  \"number\" : number}\n",
    "        characters.append(character_info)\n",
    "    return characters\n",
    "def save_to_json(characters):\n",
    "    with open('characters.json', 'w') as f:\n",
    "        json.dump(characters,f,indent=4)\n",
    "    print(\"Characters saved to characters.json successfully.\")\n",
    "\n",
    "if __name__==\"__main__\":\n",
    "    characters_info = collect_character_info()\n",
    "    save_to_json(characters_info)"
   ]
  },
  {
   "cell_type": "code",
   "execution_count": 11,
   "id": "c4e551d4-7ce3-4a31-9d3a-54fe4219b3c6",
   "metadata": {},
   "outputs": [
    {
     "name": "stdout",
     "output_type": "stream",
     "text": [
      "JSON file reset successfully.\n"
     ]
    }
   ],
   "source": [
    "def reset_json_file():\n",
    "    data = []  # or {} for an empty dictionary\n",
    "\n",
    "    # Write the empty data to the JSON file\n",
    "    with open(\"characters.json\", \"w\") as file:\n",
    "        json.dump(data, file)\n",
    "    \n",
    "    print(\"JSON file reset successfully.\")\n",
    "\n",
    "if __name__ == \"__main__\":\n",
    "    reset_json_file()"
   ]
  },
  {
   "cell_type": "code",
   "execution_count": null,
   "id": "db95e968-28e2-4668-a0e2-32bc88b88ae1",
   "metadata": {},
   "outputs": [],
   "source": []
  }
 ],
 "metadata": {
  "kernelspec": {
   "display_name": "Python 3 (ipykernel)",
   "language": "python",
   "name": "python3"
  },
  "language_info": {
   "codemirror_mode": {
    "name": "ipython",
    "version": 3
   },
   "file_extension": ".py",
   "mimetype": "text/x-python",
   "name": "python",
   "nbconvert_exporter": "python",
   "pygments_lexer": "ipython3",
   "version": "3.11.5"
  }
 },
 "nbformat": 4,
 "nbformat_minor": 5
}
