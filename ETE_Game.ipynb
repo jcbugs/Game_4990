{
 "cells": [
  {
   "cell_type": "markdown",
   "id": "53f5b17f-82d3-4023-9eba-f0d5160bb379",
   "metadata": {},
   "source": [
    "# ETE - Game (Poke-bro)"
   ]
  },
  {
   "cell_type": "markdown",
   "id": "f01f34b8-9f05-4706-8e9c-e91cb445a6df",
   "metadata": {},
   "source": [
    "#### Import of all the necessary libraries"
   ]
  },
  {
   "cell_type": "code",
   "execution_count": 98,
   "id": "854f47b4-6ec5-482b-8442-2e0a51e9b5cb",
   "metadata": {},
   "outputs": [],
   "source": [
    "import json\n",
    "import random\n",
    "import time"
   ]
  },
  {
   "cell_type": "markdown",
   "id": "dcb1016c-380c-4cba-a4af-dd55a852e42d",
   "metadata": {
    "tags": []
   },
   "source": [
    "#### List of User-Defined Functions"
   ]
  },
  {
   "cell_type": "code",
   "execution_count": 111,
   "id": "042c67da-160b-45bf-8b4c-4f0c3ecbde5b",
   "metadata": {},
   "outputs": [],
   "source": [
    "def save_file(data, filename):\n",
    "    with open(filename, 'w') as json_file:\n",
    "        json.dump(data, json_file, indent=4)\n",
    "    \n",
    "\n",
    "        \n",
    "def load_file(filename):\n",
    "    with open(filename, 'r') as json_file:\n",
    "        data = json.load(json_file)\n",
    "    return data\n",
    "\n",
    "    \n",
    "def add_item():\n",
    "    with open(\"items.json\", \"r\") as file:\n",
    "        data = json.load(file)\n",
    "    random_item = random.choice(data)\n",
    "    print(\"\\nYou have picked up a \\033[92m\" + random_item[\"item_name\"]+\"\\n\\033[0m\")\n",
    "    return random_item[\"item_name\"]\n",
    "\n",
    "\n",
    "def use_item(use, hp, power, accuracy):\n",
    "    with open(\"items.json\", \"r\") as file:\n",
    "        data = json.load(file)\n",
    "    for item in data:\n",
    "        if item[\"item_name\"] == use:\n",
    "            if item[\"target\"] == \"hp\":\n",
    "                hp = hp + int(item[\"effect\"])\n",
    "                print(hp)\n",
    "                return hp\n",
    "\n",
    "            if item[\"target\"] == \"power\":\n",
    "                power = power + int(item[\"effect\"])\n",
    "                print(power)\n",
    "                return power\n",
    "\n",
    "            if item[\"target\"] == \"accuracy\":\n",
    "                accuracy = accuracy + int(item[\"effect\"])\n",
    "                print(accuracy)\n",
    "                return accuracy\n",
    "\n",
    "\n",
    "def walk(lvl,hp,power,accuracy, items, xp):\n",
    "    encounter = random.randint(1,8)\n",
    "    x=int(lvl)\n",
    "    if encounter >= 6:\n",
    "        hp, power, accuracy, items, xp match(x,hp,power,accuracy, items, xp)\n",
    "    elif encounter <= 2:\n",
    "        z=add_item()\n",
    "        if z in items:\n",
    "            items[z]+=(1)\n",
    "        else:\n",
    "            items[z]=1\n",
    "    elif 2 < encounter < 6:\n",
    "        print(\"\\nThere is nothing\\n\")\n",
    "    return hp, power, accuracy, items, xp\n",
    "        \n",
    "        \n",
    "def display_slide(slide):\n",
    "    print(slide)\n",
    "    input(\"\")\n",
    "    \n",
    "    \n",
    "def save_success():\n",
    "    print(FONT_SIZE_SMALL + \"Data saved successfully.\")\n",
    "    print (FONT_SIZE_NORMAL) \n",
    "        \n",
    "FONT_SIZE_SMALL = \"\\033[1;30m\"\n",
    "FONT_SIZE_NORMAL = \"\\033[0m\" "
   ]
  },
  {
   "cell_type": "markdown",
   "id": "619e5c27-115c-44f9-9682-2d25c0ec7587",
   "metadata": {},
   "source": [
    "#### User-Defined Function for the Battle"
   ]
  },
  {
   "cell_type": "code",
   "execution_count": 112,
   "id": "79fe326f-5250-4d49-bf7f-82b5523d9830",
   "metadata": {
    "tags": []
   },
   "outputs": [],
   "source": [
    "def match(level,hp,power,accuracy, items,xp):\n",
    "    with open(\"characters.json\", \"r\") as file:\n",
    "        data = json.load(file)\n",
    "    lvl = int(level)\n",
    "    random_enemy = random.choice(data)\n",
    "    if lvl == 1:\n",
    "        level = 1\n",
    "    elif lvl == 2:\n",
    "        level = lvl+random.randint(1,1)\n",
    "    elif lvl >= 3:\n",
    "        level = lvl+random.randint(-2,1)\n",
    "    \n",
    "    print(\"\\nYou have met a level \" + str(level) + \" \\033[91m\" + random_enemy[\"character_name\"]+\"\\033[0m\")\n",
    "\n",
    "    hp=hp;power=power;accuracy=accuracy\n",
    "    \n",
    "    enemy_hp = random_enemy[\"hp\"]+(random_enemy[\"hp_up\"]*lvl)\n",
    "    \n",
    "    if enemy_hp<=15:\n",
    "        enemy_hp_str = (\"\\033[91m\"+str(enemy_hp)+\"\\033[0m\")\n",
    "    else:\n",
    "        enemy_hp_str = (\"\\033[92m\"+str(enemy_hp)+\"\\033[0m\")\n",
    "\n",
    "    enemy_power = random_enemy[\"power\"]+(random_enemy[\"power_up\"]*lvl)\n",
    "    enemy_accuracy = random_enemy[\"accuracy\"]\n",
    "    \n",
    "    if hp<=15:\n",
    "        hp_str = (\"\\033[91m\"+str(hp)+\"\\033[0m\")\n",
    "    else:\n",
    "        hp_str = (\"\\033[92m\"+str(hp)+\"\\033[0m\")\n",
    "    \n",
    "    while enemy_hp > 0 and hp > 0:    \n",
    "        print(\"\\nEnemy HP: \"+enemy_hp_str+\"\\n\\nHP: \"+hp_str+\"\\nAttack: \"+str(power)+\"\\nAccuracy: \"+str(accuracy))\n",
    "        \n",
    "        choice = int(input(\"1: attack\\n2: use an item\\n3: run\"))\n",
    "\n",
    "        if choice == 1:\n",
    "            chance = random.randint(1,100)\n",
    "            if chance <= accuracy:\n",
    "                enemy_hp = enemy_hp-power\n",
    "                print(\"\\033[92m\\nThe enemy was hit\")\n",
    "            else: print(\"\\033[91m\\nThe enemy was not hit\")\n",
    "            \n",
    "            enemy_chance = random.randint(1,100)\n",
    "            if enemy_chance <= enemy_accuracy:\n",
    "                hp = hp-enemy_power\n",
    "                print(\"\\033[91mThe enemy hit you\")\n",
    "            else: print(\"\\033[92mThe enemy missed\")\n",
    "            print(\"\\033[0m\")\n",
    "            \n",
    "        elif choice == 2:\n",
    "            print(items)\n",
    "            x = input(\"\\nWhich item would you like to use?\")\n",
    "            with open(\"items.json\", \"r\") as file:\n",
    "                jsonitems = json.load(file)\n",
    "            for item in jsonitems:\n",
    "                if item[\"item_name\"] == x:\n",
    "                    if item[\"target\"] == \"hp\":\n",
    "                        hp = use_item(x,hp,power,accuracy)\n",
    "                        print( x + \" was used, your \" + item[\"target\"]  + \" is now \"+ str(hp) )\n",
    "\n",
    "                    if item[\"target\"] == \"power\":\n",
    "                        power = use_item(x,hp,power,accuracy)\n",
    "                        print( x + \" was used, your \" + item[\"target\"] + \" is now \"+ str(power) )\n",
    "                \n",
    "                    if item[\"target\"] == \"accuracy\":\n",
    "                        accuracy = use_item(x,hp,power,accuracy)\n",
    "                        print( x + \" was used, your \" + item[\"target\"] + \" is now \"+ str(accuracy) )           \n",
    "            items[x]-=(1)\n",
    "            if items[x] <= 0:\n",
    "                del items[x]\n",
    "            \n",
    "        elif choice == 3:\n",
    "            run = random.randint(1,3)\n",
    "            if run == 1:\n",
    "                print(\"\\033[92m\\nYou were able to run away\\n\\033[0m\")\n",
    "                break\n",
    "            else:\n",
    "                print(\"\\033[91m\\nYou were not able to run away\\n\\033[0m\")\n",
    "        \n",
    "        if enemy_hp<=15:\n",
    "            enemy_hp_str = (\"\\033[91m\"+str(enemy_hp)+\"\\033[0m\")\n",
    "        else:\n",
    "            enemy_hp_str = (\"\\033[92m\"+str(enemy_hp)+\"\\033[0m\")\n",
    "            \n",
    "        if hp<=15:\n",
    "            hp_str = (\"\\033[91m\"+str(hp)+\"\\033[0m\")\n",
    "        else:\n",
    "            hp_str = (\"\\033[92m\"+str(hp)+\"\\033[0m\")\n",
    "    if choice == 3 and run == 1:\n",
    "        return hp,power,accuracy,items,xp\n",
    "    if hp > 0:\n",
    "        print(\"\\033[92m\\nYou have defeated the enemy\")\n",
    "        xp = xp + 35\n",
    "    else:\n",
    "        print(\"\\033[91m\\nYou have been defeated\\nGame Over\")\n",
    "    print(\"\\033[0m\")\n",
    "    return hp,power,accuracy,items,xp"
   ]
  },
  {
   "cell_type": "markdown",
   "id": "0e35b492-0798-4715-b45f-2220f1aeab61",
   "metadata": {},
   "source": [
    "#### Start up and Introduction of the game\n",
    "##### File saving and loading"
   ]
  },
  {
   "cell_type": "code",
   "execution_count": 114,
   "id": "c92def65-f064-4e18-96ec-6301a36b6659",
   "metadata": {},
   "outputs": [
    {
     "name": "stdin",
     "output_type": "stream",
     "text": [
      "Press 1 to to load a save file or 2 to start a new save file\n",
      " 2\n"
     ]
    },
    {
     "name": "stdout",
     "output_type": "stream",
     "text": [
      "Welcome to the World of Poke-bro!\n"
     ]
    },
    {
     "name": "stdin",
     "output_type": "stream",
     "text": [
      " \n"
     ]
    },
    {
     "name": "stdout",
     "output_type": "stream",
     "text": [
      "In this world you will be capturing and battling against bros all over the world with your own bro.\n"
     ]
    },
    {
     "name": "stdin",
     "output_type": "stream",
     "text": [
      " \n"
     ]
    },
    {
     "name": "stdout",
     "output_type": "stream",
     "text": [
      "Battles can be brutal and fatal so get ready not to shed a tear if you lose your bro.\n"
     ]
    },
    {
     "name": "stdin",
     "output_type": "stream",
     "text": [
      " \n",
      "What is your name \n",
      "Which Bro would you like to accompany you in your journey?\n",
      "Office-Bro\n",
      "Gym-Bro\n",
      "Gambler-Bro Gym-Bro\n"
     ]
    },
    {
     "name": "stdout",
     "output_type": "stream",
     "text": [
      "{'character_name': 'Gym-Bro', 'description': 'Works out all the time at the gym', 'hp': 70, 'power': 30, 'hp_up': 2, 'power_up': 2, 'accuracy': 30, 'number': 2}\n"
     ]
    },
    {
     "name": "stdin",
     "output_type": "stream",
     "text": [
      "Would you like to proceed wth this character? (y/n) y\n"
     ]
    },
    {
     "name": "stdout",
     "output_type": "stream",
     "text": [
      "\u001b[1;30mData saved successfully.\n",
      "\u001b[0m\n"
     ]
    }
   ],
   "source": [
    "game = int(input(\"Press 1 to to load a save file or 2 to start a new save file\\n\"))    \n",
    "\n",
    "file_name = \"save_file.json\"\n",
    "\n",
    "if game == 1:\n",
    "    with open(file_name, 'r') as json_file:\n",
    "        data = json.load(json_file)\n",
    "        \n",
    "    name = data[\"Name\"]\n",
    "    xp = data[\"XP\"]\n",
    "    level = int( 1 + (xp/100))\n",
    "    xp_per_lvl = xp - (level-1) * 100\n",
    "    bro = data[\"Bro\"]\n",
    "    hp = data[\"HP\"]\n",
    "    power = data[\"Power\"]\n",
    "    hp_up = data[\"HP_Up\"]\n",
    "    power_up = data[\"Power_Up\"]\n",
    "    accuracy = data[\"Accuracy\"] \n",
    "    items = data[\"Items\"]\n",
    "    \n",
    "    data = {\n",
    "    \"Name\": name, \"Bro\" : bro, \"Level\": level, \"XP\":xp, \"HP\":hp, \"Power\":power, \"HP_Up\":hp_up, \"Power_Up\":power_up,\"Accuracy\":accuracy, \"Items\" : items\n",
    "    } \n",
    "    \n",
    "elif game == 2:\n",
    "    intro = [\"Welcome to the World of Poke-bro!\", \n",
    "             \"In this world you will be capturing and battling against bros all over the world with your own bro.\",\n",
    "             \"Battles can be brutal and fatal so get ready not to shed a tear if you lose your bro.\"]\n",
    "\n",
    "    for slide in intro:\n",
    "        display_slide(slide)\n",
    "    name = input(\"What is your name\")\n",
    "    bro = (\"N/A\")\n",
    "    xp = 0\n",
    "    level = int( 1 + (xp/100))\n",
    "    xp_per_lvl = xp - (level-1) * 100\n",
    "    hp = (\"N/A\")\n",
    "    power = (\"N/A\")\n",
    "    hp_up = (\"N/A\")\n",
    "    power_up = (\"N/A\")\n",
    "    accuracy = (\"N/A\")\n",
    "    items = {\"Potion\":1,\"Super Potion\":1}\n",
    "\n",
    "    data = {\n",
    "    \"Name\": name, \"Bro\" : bro, \"Level\": level, \"XP\":xp, \"HP\":hp, \"Power\":power, \"HP_Up\":hp_up, \"Power_Up\":power_up,\"Accuracy\":accuracy, \"Items\" : items\n",
    "    }    \n",
    "    \n",
    "    with open(\"characters.json\", \"r\") as file:\n",
    "        char = json.load(file)\n",
    "    \n",
    "    while bro == \"N/A\":\n",
    "        bro_choice = input(\"Which Bro would you like to accompany you in your journey?\" + \"\\nOffice-Bro\" + \"\\nGym-Bro\" + \"\\nGambler-Bro\")\n",
    "        \n",
    "        if bro_choice == \"Office-Bro\":\n",
    "            print(char[0])\n",
    "            confirm = input(\"Would you like to proceed wth this character? (y/n)\")\n",
    "            if confirm == \"y\":\n",
    "                broski = char[0]\n",
    "        elif bro_choice == \"Gym-Bro\":\n",
    "            print(char[1])\n",
    "            confirm = input(\"Would you like to proceed wth this character? (y/n)\")\n",
    "            if confirm == \"y\":\n",
    "                broski = char[1]\n",
    "        elif bro_choice == \"Gambler-Bro\":\n",
    "            print(char[2])\n",
    "            confirm = input(\"Would you like to proceed wth this character? (y/n)\")\n",
    "            if confirm == \"y\":\n",
    "                broski = char[2]\n",
    "            \n",
    "        bro = broski[\"character_name\"]\n",
    "        hp = broski[\"hp\"]\n",
    "        power = broski[\"power\"]\n",
    "        hp_up = broski[\"hp_up\"]\n",
    "        power_up = broski[\"power_up\"]\n",
    "        accuracy = broski[\"accuracy\"]\n",
    "            \n",
    "    data = {\n",
    "    \"Name\": name, \"Bro\" : bro, \"Level\": level, \"XP\":xp, \"XP_Per_Level\":xp_per_lvl, \"HP\":hp, \"Power\":power, \"HP_Up\":hp_up, \"Power_Up\":power_up,\"Accuracy\":accuracy, \"Items\" : items\n",
    "    } \n",
    "    save_file(data, file_name)\n",
    "    save_success()\n"
   ]
  },
  {
   "cell_type": "markdown",
   "id": "a64f13e2-149d-464d-9b1c-0445165b4d42",
   "metadata": {},
   "source": [
    "#### Actual Game"
   ]
  },
  {
   "cell_type": "code",
   "execution_count": null,
   "id": "6a90f18b-561f-4685-b4b4-cdd5c2782da9",
   "metadata": {
    "tags": []
   },
   "outputs": [
    {
     "name": "stdout",
     "output_type": "stream",
     "text": [
      "Level: 1\n",
      "XP: 35\n",
      "HP: \u001b[92m17\u001b[0m\n",
      "Attack: 60\n",
      "Accuracy: 30\n"
     ]
    }
   ],
   "source": [
    "if hp<=15:\n",
    "    hp_str = (\"\\033[91m\"+str(hp)+\"\\033[0m\")\n",
    "else:\n",
    "    hp_str = (\"\\033[92m\"+str(hp)+\"\\033[0m\")\n",
    "\n",
    "xp_per_lvl = xp - (level-1) * 100\n",
    "print(\"Level: \"+str(level)+\"\\nXP: \"+str(xp_per_lvl)+\"\\nHP: \"+hp_str+\"\\nAttack: \"+str(power)+\"\\nAccuracy: \"+str(accuracy))\n",
    "choice = input(\"1: to walk \\n2: to open inventory\\n3: to save and exit\\n4: to exit\\n\")\n",
    "\n",
    "while hp > 0:\n",
    "    if int(choice) == 1:\n",
    "        hp, power, accuracy, items,xp=walk(level,hp,power,accuracy, items,xp)\n",
    "        \n",
    "        if hp<=0:\n",
    "            break\n",
    "        \n",
    "        if hp<=15:\n",
    "            hp_str = (\"\\033[91m\"+str(hp)+\"\\033[0m\")\n",
    "        else:\n",
    "            hp_str = (\"\\033[92m\"+str(hp)+\"\\033[0m\")\n",
    "\n",
    "        print(\"Level: \"+str(level)+\"\\nXP: \"+str(xp_per_lvl)+\"\\nHP: \"+hp_str+\"\\nAttack: \"+str(power)+\"\\nAccuracy: \"+str(accuracy))          \n",
    "        choice = input(\"1: to walk \\n2: to open inventory\\n3: to save and exit\\n4: to exit\\n\")\n",
    "        \n",
    "    \n",
    "    if int(choice) == 2:\n",
    "        print(items)\n",
    "        pick = input(\"\\n Use an item?(y/n)\")\n",
    "        if pick == \"y\":\n",
    "            x = input(\"Which item would you like to use?\")\n",
    "            with open(\"items.json\", \"r\") as file:\n",
    "                jsonitems = json.load(file)\n",
    "            for item in jsonitems:\n",
    "                if item[\"item_name\"] == x:\n",
    "                    if item[\"target\"] == \"hp\":\n",
    "                        hp = use_item(x,hp,power,accuracy)\n",
    "                        print( x + \" was used, your \" + item[\"target\"]  + \" is now \"+ str(hp) )\n",
    "\n",
    "                    if item[\"target\"] == \"power\":\n",
    "                        power = use_item(x,hp,power,accuracy)\n",
    "                        print( x + \" was used, your \" + item[\"target\"] + \" is now \"+ str(power) )\n",
    "                \n",
    "                    if item[\"target\"] == \"accuracy\":\n",
    "                        accuracy = use_item(x,hp,power,accuracy)\n",
    "                        print( x + \" was used, your \" + item[\"target\"] + \" is now \"+ str(accuracy) )           \n",
    "            items[x]-=(1)\n",
    "            if items[x] <= 0:\n",
    "                del items[x]\n",
    "            \n",
    "            \n",
    "        choice = input(\"1: to walk \\n2: to open inventory\\n3: to save and exit\\n4: to exit\\n\")\n",
    "    \n",
    "    if int(choice) == 3:\n",
    "        save_file(data, file_name)\n",
    "        save_success()\n",
    "        break\n",
    "    \n",
    "    if int(choice) == 4:\n",
    "        break\n",
    "    "
   ]
  },
  {
   "cell_type": "code",
   "execution_count": null,
   "id": "348e5eeb-f57a-41ab-8e57-511d1061e9fc",
   "metadata": {},
   "outputs": [],
   "source": []
  }
 ],
 "metadata": {
  "kernelspec": {
   "display_name": "Python 3 (ipykernel)",
   "language": "python",
   "name": "python3"
  },
  "language_info": {
   "codemirror_mode": {
    "name": "ipython",
    "version": 3
   },
   "file_extension": ".py",
   "mimetype": "text/x-python",
   "name": "python",
   "nbconvert_exporter": "python",
   "pygments_lexer": "ipython3",
   "version": "3.11.5"
  }
 },
 "nbformat": 4,
 "nbformat_minor": 5
}
